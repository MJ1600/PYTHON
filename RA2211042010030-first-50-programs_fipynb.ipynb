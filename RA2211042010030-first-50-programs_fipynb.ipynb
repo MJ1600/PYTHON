{
  "nbformat": 4,
  "nbformat_minor": 0,
  "metadata": {
    "colab": {
      "provenance": [],
      "authorship_tag": "ABX9TyMYtKDOavsTaNdtc8ic60dx",
      "include_colab_link": true
    },
    "kernelspec": {
      "name": "python3",
      "display_name": "Python 3"
    },
    "language_info": {
      "name": "python"
    }
  },
  "cells": [
    {
      "cell_type": "markdown",
      "metadata": {
        "id": "view-in-github",
        "colab_type": "text"
      },
      "source": [
        "<a href=\"https://colab.research.google.com/github/MJ1600/PYTHON/blob/main/RA2211042010030-first-50-programs_fipynb.ipynb\" target=\"_parent\"><img src=\"https://colab.research.google.com/assets/colab-badge.svg\" alt=\"Open In Colab\"/></a>"
      ]
    },
    {
      "cell_type": "code",
      "execution_count": 1,
      "metadata": {
        "colab": {
          "base_uri": "https://localhost:8080/"
        },
        "id": "e9nckMRPKqS6",
        "outputId": "bfcd8037-a8c1-43ac-afa5-fa1038cfd967"
      },
      "outputs": [
        {
          "output_type": "stream",
          "name": "stdout",
          "text": [
            "WE ARE THE CHAMPOINS\n"
          ]
        }
      ],
      "source": [
        "print(\"WE ARE THE CHAMPOINS\")"
      ]
    },
    {
      "cell_type": "code",
      "source": [
        "789 + 876"
      ],
      "metadata": {
        "colab": {
          "base_uri": "https://localhost:8080/"
        },
        "id": "100gFHQrLBg7",
        "outputId": "196bab60-a340-454a-8e7e-217f743a3c74"
      },
      "execution_count": 2,
      "outputs": [
        {
          "output_type": "execute_result",
          "data": {
            "text/plain": [
              "1665"
            ]
          },
          "metadata": {},
          "execution_count": 2
        }
      ]
    },
    {
      "cell_type": "code",
      "source": [
        "5433456765 - 8763456787654"
      ],
      "metadata": {
        "colab": {
          "base_uri": "https://localhost:8080/"
        },
        "id": "rRptew5XLFXB",
        "outputId": "2ad6d2cd-9a5d-4ad6-8b6c-2da521bd69b9"
      },
      "execution_count": 4,
      "outputs": [
        {
          "output_type": "execute_result",
          "data": {
            "text/plain": [
              "-8758023330889"
            ]
          },
          "metadata": {},
          "execution_count": 4
        }
      ]
    },
    {
      "cell_type": "code",
      "source": [],
      "metadata": {
        "id": "pntLokF-LJKi"
      },
      "execution_count": null,
      "outputs": []
    }
  ]
}