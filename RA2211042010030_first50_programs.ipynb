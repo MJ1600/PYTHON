{
  "nbformat": 4,
  "nbformat_minor": 0,
  "metadata": {
    "colab": {
      "provenance": [],
      "authorship_tag": "ABX9TyPm1hCARcYq5ZdS4pttILk4",
      "include_colab_link": true
    },
    "kernelspec": {
      "name": "python3",
      "display_name": "Python 3"
    },
    "language_info": {
      "name": "python"
    }
  },
  "cells": [
    {
      "cell_type": "markdown",
      "metadata": {
        "id": "view-in-github",
        "colab_type": "text"
      },
      "source": [
        "<a href=\"https://colab.research.google.com/github/MJ1600/PYTHON/blob/main/RA2211042010030_first50_programs.ipynb\" target=\"_parent\"><img src=\"https://colab.research.google.com/assets/colab-badge.svg\" alt=\"Open In Colab\"/></a>"
      ]
    },
    {
      "cell_type": "code",
      "execution_count": 1,
      "metadata": {
        "colab": {
          "base_uri": "https://localhost:8080/"
        },
        "id": "D5YmDzkTMYId",
        "outputId": "11d44607-cc88-4486-c8be-7abf4f09316d"
      },
      "outputs": [
        {
          "output_type": "stream",
          "name": "stdout",
          "text": [
            "You are a computer\n"
          ]
        }
      ],
      "source": [
        "print(\"You are a computer\")"
      ]
    },
    {
      "cell_type": "markdown",
      "source": [
        "display a sentence"
      ],
      "metadata": {
        "id": "79b2zGZGNXUl"
      }
    },
    {
      "cell_type": "code",
      "source": [
        "672345678 - 876543456"
      ],
      "metadata": {
        "colab": {
          "base_uri": "https://localhost:8080/"
        },
        "id": "CxxKHDXOM1Y6",
        "outputId": "f43ed3a0-666d-4ef7-a965-e14f69aa8349"
      },
      "execution_count": 2,
      "outputs": [
        {
          "output_type": "execute_result",
          "data": {
            "text/plain": [
              "-204197778"
            ]
          },
          "metadata": {},
          "execution_count": 2
        }
      ]
    },
    {
      "cell_type": "markdown",
      "source": [
        "2 - subtraction"
      ],
      "metadata": {
        "id": "FIXawgwbO9ot"
      }
    },
    {
      "cell_type": "code",
      "source": [
        "var = \"She is Megha\"\n",
        "print(var)"
      ],
      "metadata": {
        "colab": {
          "base_uri": "https://localhost:8080/"
        },
        "id": "DabahYo7M38o",
        "outputId": "ac3690eb-5438-4cf0-920e-a1dddb6ef61e"
      },
      "execution_count": 4,
      "outputs": [
        {
          "output_type": "stream",
          "name": "stdout",
          "text": [
            "She is Megha\n"
          ]
        }
      ]
    },
    {
      "cell_type": "markdown",
      "source": [
        "displaying using a variable"
      ],
      "metadata": {
        "id": "Key_ojhqNwP1"
      }
    },
    {
      "cell_type": "code",
      "source": [
        "564 * 456"
      ],
      "metadata": {
        "colab": {
          "base_uri": "https://localhost:8080/"
        },
        "id": "wmBmnTIlNJjJ",
        "outputId": "c01bab8e-fe0e-467d-ec3b-89a4689e4179"
      },
      "execution_count": 5,
      "outputs": [
        {
          "output_type": "execute_result",
          "data": {
            "text/plain": [
              "257184"
            ]
          },
          "metadata": {},
          "execution_count": 5
        }
      ]
    },
    {
      "cell_type": "markdown",
      "source": [
        "addition"
      ],
      "metadata": {
        "id": "SVQYK1sIN6NR"
      }
    },
    {
      "cell_type": "code",
      "source": [
        "first_name = 'Rowan '\n",
        "last_name = 'Atkinson'\n",
        "full_name = first_name + '' + last_name\n",
        "print(full_name)"
      ],
      "metadata": {
        "colab": {
          "base_uri": "https://localhost:8080/"
        },
        "id": "o1RVOfQcNMux",
        "outputId": "71f0810d-c78f-4175-8e2d-7e02abdb2cc1"
      },
      "execution_count": 7,
      "outputs": [
        {
          "output_type": "stream",
          "name": "stdout",
          "text": [
            "Rowan Atkinson\n"
          ]
        }
      ]
    },
    {
      "cell_type": "markdown",
      "source": [
        "concatenation"
      ],
      "metadata": {
        "id": "tn-K6TLmOqDg"
      }
    },
    {
      "cell_type": "code",
      "source": [
        "a1 = 'Fan'\n",
        "a2 = 'tastic'\n",
        "print(a1+a2)"
      ],
      "metadata": {
        "colab": {
          "base_uri": "https://localhost:8080/"
        },
        "id": "y6imnB_IOsTa",
        "outputId": "80911a80-f2a4-461c-9d63-e7b138303a5a"
      },
      "execution_count": 8,
      "outputs": [
        {
          "output_type": "stream",
          "name": "stdout",
          "text": [
            "Fantastic\n"
          ]
        }
      ]
    },
    {
      "cell_type": "markdown",
      "source": [
        "6) concatenation"
      ],
      "metadata": {
        "id": "aeWqIVk_PfEC"
      }
    },
    {
      "cell_type": "code",
      "source": [
        "int(\"60\")"
      ],
      "metadata": {
        "colab": {
          "base_uri": "https://localhost:8080/"
        },
        "id": "NsuoKWYyPiPR",
        "outputId": "e35e09f3-0564-4451-abd3-8b0e99125fc0"
      },
      "execution_count": 9,
      "outputs": [
        {
          "output_type": "execute_result",
          "data": {
            "text/plain": [
              "60"
            ]
          },
          "metadata": {},
          "execution_count": 9
        }
      ]
    },
    {
      "cell_type": "markdown",
      "source": [
        "7) integer"
      ],
      "metadata": {
        "id": "_Exq1yKgQDhE"
      }
    },
    {
      "cell_type": "code",
      "source": [
        "num1 = 8.8\n",
        "num2 = 6.7\n",
        "sum = float(num1) + float(num2)\n",
        "print('sum of {0} snd {1} is {2}'.format(num1, num2, sum))"
      ],
      "metadata": {
        "colab": {
          "base_uri": "https://localhost:8080/"
        },
        "id": "4zxUcW3lQUPi",
        "outputId": "441b300a-5f14-4cd4-ea44-121aed7c9183"
      },
      "execution_count": 15,
      "outputs": [
        {
          "output_type": "stream",
          "name": "stdout",
          "text": [
            "sum of 8.8 snd 6.7 is 15.5\n"
          ]
        }
      ]
    },
    {
      "cell_type": "markdown",
      "source": [
        "8) adding two numbers"
      ],
      "metadata": {
        "id": "PTv8h9dEU651"
      }
    },
    {
      "cell_type": "code",
      "source": [
        "x = 9\n",
        "y = 6\n",
        "temp = x\n",
        "x = y\n",
        "y = temp\n",
        "print('The value of x after swapping: {}'.format(x))\n",
        "print('The value of y after swapping {}'.format(y))\n"
      ],
      "metadata": {
        "colab": {
          "base_uri": "https://localhost:8080/"
        },
        "id": "KCnuKyqvU_tn",
        "outputId": "c721a669-7933-4f27-e3f4-c71b0f10b046"
      },
      "execution_count": 16,
      "outputs": [
        {
          "output_type": "stream",
          "name": "stdout",
          "text": [
            "The value of x after swapping: 6\n",
            "The value of y after swapping 9\n"
          ]
        }
      ]
    },
    {
      "cell_type": "markdown",
      "source": [
        "9)swapping"
      ],
      "metadata": {
        "id": "ueU5fyC2XVwx"
      }
    },
    {
      "cell_type": "code",
      "source": [
        "x = 5\n",
        "y = 2\n",
        "x, y = y, x\n",
        "print(\"x =\", x)\n",
        "print(\"y =\", y)"
      ],
      "metadata": {
        "colab": {
          "base_uri": "https://localhost:8080/"
        },
        "id": "8MkO2QJuXbSi",
        "outputId": "0a55ff60-8736-4ee1-bda4-648c95307138"
      },
      "execution_count": 17,
      "outputs": [
        {
          "output_type": "stream",
          "name": "stdout",
          "text": [
            "x = 2\n",
            "y = 5\n"
          ]
        }
      ]
    },
    {
      "cell_type": "markdown",
      "source": [
        "10) swapping without temp"
      ],
      "metadata": {
        "id": "YBJX5oc-X8P5"
      }
    },
    {
      "cell_type": "code",
      "source": [
        "45 * 234568"
      ],
      "metadata": {
        "colab": {
          "base_uri": "https://localhost:8080/"
        },
        "id": "nNVcIMw2YNyf",
        "outputId": "4e3bbd13-ac73-4dc3-9567-8da05c1d2c9d"
      },
      "execution_count": 18,
      "outputs": [
        {
          "output_type": "execute_result",
          "data": {
            "text/plain": [
              "10555560"
            ]
          },
          "metadata": {},
          "execution_count": 18
        }
      ]
    },
    {
      "cell_type": "markdown",
      "source": [
        "11) multiplication"
      ],
      "metadata": {
        "id": "rUQrsPM2Yvde"
      }
    },
    {
      "cell_type": "code",
      "source": [],
      "metadata": {
        "id": "f80es627Yx5X"
      },
      "execution_count": null,
      "outputs": []
    }
  ]
}